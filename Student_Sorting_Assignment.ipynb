{
 "cells": [
  {
   "cell_type": "markdown",
   "id": "863192d1",
   "metadata": {},
   "source": [
    "# Student Name: [MAHLET TEKLE]\n",
    "# Student ID: [DBU1601955]\n",
    "# Department: [DATASCIENCE]\n",
    "# GitHub: https://github.com/reosao6\n",
    "## Data Structures and Algorithms - Assignment\n"
   ]
  },
  {
   "cell_type": "code",
   "execution_count": 1,
   "id": "7660c4db",
   "metadata": {},
   "outputs": [],
   "source": [
    "\n",
    "# Generate student profiles\n",
    "students = [\n",
    "    {'id': 'DBU1500001', 'name': 'Dawit', 'dept': 'DS', 'cgpa': 3.34},\n",
    "    {'id': 'DBU1500003', 'name': 'Abrham', 'dept': 'CS', 'cgpa': 3.12},\n",
    "    {'id': 'DBU1500002', 'name': 'Soliana', 'dept': 'DS', 'cgpa': 2.74},\n",
    "    {'id': 'DBU1500005', 'name': 'Rahel', 'dept': 'CS', 'cgpa': 3.10},\n",
    "    {'id': 'DBU1500004', 'name': 'Meklit', 'dept': 'IT', 'cgpa': 3.67},\n",
    "    {'id': 'DBU1500006', 'name': 'Natnael', 'dept': 'DS', 'cgpa': 2.95},\n",
    "    {'id': 'DBU1500008', 'name': 'Yared', 'dept': 'CS', 'cgpa': 3.21},\n",
    "    {'id': 'DBU1500007', 'name': 'Bethel', 'dept': 'SE', 'cgpa': 3.45},\n",
    "    {'id': 'DBU1500009', 'name': 'Sami', 'dept': 'DS', 'cgpa': 2.88},\n",
    "    {'id': 'DBU1500010', 'name': 'Lidiya', 'dept': 'CS', 'cgpa': 3.76}\n",
    "]\n"
   ]
  },
  {
   "cell_type": "markdown",
   "id": "0b37d547",
   "metadata": {},
   "source": [
    "## 🔷 Bubble Sort by Student ID"
   ]
  },
  {
   "cell_type": "code",
   "execution_count": 2,
   "id": "6e10cb4e",
   "metadata": {},
   "outputs": [
    {
     "name": "stdout",
     "output_type": "stream",
     "text": [
      "Sorted by ID (Bubble Sort):\n",
      "{'id': 'DBU1500001', 'name': 'Dawit', 'dept': 'DS', 'cgpa': 3.34}\n",
      "{'id': 'DBU1500002', 'name': 'Soliana', 'dept': 'DS', 'cgpa': 2.74}\n",
      "{'id': 'DBU1500003', 'name': 'Abrham', 'dept': 'CS', 'cgpa': 3.12}\n",
      "{'id': 'DBU1500004', 'name': 'Meklit', 'dept': 'IT', 'cgpa': 3.67}\n",
      "{'id': 'DBU1500005', 'name': 'Rahel', 'dept': 'CS', 'cgpa': 3.1}\n",
      "{'id': 'DBU1500006', 'name': 'Natnael', 'dept': 'DS', 'cgpa': 2.95}\n",
      "{'id': 'DBU1500007', 'name': 'Bethel', 'dept': 'SE', 'cgpa': 3.45}\n",
      "{'id': 'DBU1500008', 'name': 'Yared', 'dept': 'CS', 'cgpa': 3.21}\n",
      "{'id': 'DBU1500009', 'name': 'Sami', 'dept': 'DS', 'cgpa': 2.88}\n",
      "{'id': 'DBU1500010', 'name': 'Lidiya', 'dept': 'CS', 'cgpa': 3.76}\n"
     ]
    }
   ],
   "source": [
    "\n",
    "def bubble_sort_by_id(data):\n",
    "    n = len(data)\n",
    "    for i in range(n):\n",
    "        for j in range(0, n-i-1):\n",
    "            if data[j]['id'] > data[j+1]['id']:\n",
    "                data[j], data[j+1] = data[j+1], data[j]\n",
    "    return data\n",
    "\n",
    "print(\"Sorted by ID (Bubble Sort):\")\n",
    "sorted_by_id = bubble_sort_by_id(students.copy())\n",
    "for student in sorted_by_id:\n",
    "    print(student)\n"
   ]
  },
  {
   "cell_type": "markdown",
   "id": "82019e36",
   "metadata": {},
   "source": [
    "## 🔷 Insertion Sort by Name"
   ]
  },
  {
   "cell_type": "code",
   "execution_count": 3,
   "id": "4e06c5c8",
   "metadata": {},
   "outputs": [
    {
     "name": "stdout",
     "output_type": "stream",
     "text": [
      "\n",
      "Sorted by Name (Insertion Sort):\n",
      "{'id': 'DBU1500003', 'name': 'Abrham', 'dept': 'CS', 'cgpa': 3.12}\n",
      "{'id': 'DBU1500007', 'name': 'Bethel', 'dept': 'SE', 'cgpa': 3.45}\n",
      "{'id': 'DBU1500001', 'name': 'Dawit', 'dept': 'DS', 'cgpa': 3.34}\n",
      "{'id': 'DBU1500010', 'name': 'Lidiya', 'dept': 'CS', 'cgpa': 3.76}\n",
      "{'id': 'DBU1500004', 'name': 'Meklit', 'dept': 'IT', 'cgpa': 3.67}\n",
      "{'id': 'DBU1500006', 'name': 'Natnael', 'dept': 'DS', 'cgpa': 2.95}\n",
      "{'id': 'DBU1500005', 'name': 'Rahel', 'dept': 'CS', 'cgpa': 3.1}\n",
      "{'id': 'DBU1500009', 'name': 'Sami', 'dept': 'DS', 'cgpa': 2.88}\n",
      "{'id': 'DBU1500002', 'name': 'Soliana', 'dept': 'DS', 'cgpa': 2.74}\n",
      "{'id': 'DBU1500008', 'name': 'Yared', 'dept': 'CS', 'cgpa': 3.21}\n"
     ]
    }
   ],
   "source": [
    "\n",
    "def insertion_sort_by_name(data):\n",
    "    for i in range(1, len(data)):\n",
    "        key = data[i]\n",
    "        j = i - 1\n",
    "        while j >= 0 and data[j]['name'] > key['name']:\n",
    "            data[j + 1] = data[j]\n",
    "            j -= 1\n",
    "        data[j + 1] = key\n",
    "    return data\n",
    "\n",
    "print(\"\\nSorted by Name (Insertion Sort):\")\n",
    "sorted_by_name = insertion_sort_by_name(students.copy())\n",
    "for student in sorted_by_name:\n",
    "    print(student)\n"
   ]
  },
  {
   "cell_type": "markdown",
   "id": "37ce4b97",
   "metadata": {},
   "source": [
    "## 🔷 Selection Sort by CGPA (Descending)"
   ]
  },
  {
   "cell_type": "code",
   "execution_count": 4,
   "id": "603c10a2",
   "metadata": {},
   "outputs": [
    {
     "name": "stdout",
     "output_type": "stream",
     "text": [
      "\n",
      "Sorted by CGPA Descending (Selection Sort):\n",
      "{'id': 'DBU1500010', 'name': 'Lidiya', 'dept': 'CS', 'cgpa': 3.76}\n",
      "{'id': 'DBU1500004', 'name': 'Meklit', 'dept': 'IT', 'cgpa': 3.67}\n",
      "{'id': 'DBU1500007', 'name': 'Bethel', 'dept': 'SE', 'cgpa': 3.45}\n",
      "{'id': 'DBU1500001', 'name': 'Dawit', 'dept': 'DS', 'cgpa': 3.34}\n",
      "{'id': 'DBU1500008', 'name': 'Yared', 'dept': 'CS', 'cgpa': 3.21}\n",
      "{'id': 'DBU1500003', 'name': 'Abrham', 'dept': 'CS', 'cgpa': 3.12}\n",
      "{'id': 'DBU1500005', 'name': 'Rahel', 'dept': 'CS', 'cgpa': 3.1}\n",
      "{'id': 'DBU1500006', 'name': 'Natnael', 'dept': 'DS', 'cgpa': 2.95}\n",
      "{'id': 'DBU1500009', 'name': 'Sami', 'dept': 'DS', 'cgpa': 2.88}\n",
      "{'id': 'DBU1500002', 'name': 'Soliana', 'dept': 'DS', 'cgpa': 2.74}\n"
     ]
    }
   ],
   "source": [
    "\n",
    "def selection_sort_by_cgpa(data):\n",
    "    n = len(data)\n",
    "    for i in range(n):\n",
    "        max_idx = i\n",
    "        for j in range(i+1, n):\n",
    "            if data[j]['cgpa'] > data[max_idx]['cgpa']:\n",
    "                max_idx = j\n",
    "        data[i], data[max_idx] = data[max_idx], data[i]\n",
    "    return data\n",
    "\n",
    "print(\"\\nSorted by CGPA Descending (Selection Sort):\")\n",
    "sorted_by_cgpa = selection_sort_by_cgpa(students.copy())\n",
    "for student in sorted_by_cgpa:\n",
    "    print(student)\n"
   ]
  },
  {
   "cell_type": "markdown",
   "id": "1cd200c8",
   "metadata": {},
   "source": [
    "\n",
    "## 📊 Analysis and Comparison\n",
    "\n",
    "### 1. **Bubble Sort**\n",
    "- **How it works:** Compares adjacent elements and swaps them if they’re in the wrong order.\n",
    "- **Performance:** Worst-case and average-case time complexity is O(n²). It's slow for large lists.\n",
    "- **Good for:** Simplicity and teaching concepts, but not recommended for large data sets.\n",
    "- **Use here:** Easy to implement and works well for a short list of student IDs.\n",
    "\n",
    "---\n",
    "\n",
    "### 2. **Insertion Sort**\n",
    "- **How it works:** Builds the final sorted list one item at a time, shifting elements as needed.\n",
    "- **Performance:** Also O(n²) in the worst case, but performs better than bubble sort on nearly sorted lists.\n",
    "- **Good for:** Small or nearly sorted datasets.\n",
    "- **Use here:** Works fine for alphabetically sorting student names.\n",
    "\n",
    "---\n",
    "\n",
    "### 3. **Selection Sort**\n",
    "- **How it works:** Selects the maximum (or minimum) value and places it in the correct position.\n",
    "- **Performance:** Time complexity is O(n²), with no major advantage over the others in terms of speed.\n",
    "- **Good for:** Understanding sorting basics. Not memory efficient due to many swaps.\n",
    "- **Use here:** We used it to sort CGPA in descending order from top performer to lowest.\n",
    "\n",
    "---\n",
    "\n",
    "### ✅ Summary\n",
    "\n",
    "| Algorithm       | Best For                  | Time Complexity | Notes                         |\n",
    "|----------------|---------------------------|-----------------|-------------------------------|\n",
    "| Bubble Sort     | Teaching, small datasets  | O(n²)           | Very basic, not efficient     |\n",
    "| Insertion Sort  | Small/partially sorted    | O(n²)           | Slightly better than bubble   |\n",
    "| Selection Sort  | Simple logic needs        | O(n²)           | Easy to implement but slow    |\n"
   ]
  }
 ],
 "metadata": {
  "kernelspec": {
   "display_name": "base",
   "language": "python",
   "name": "python3"
  },
  "language_info": {
   "codemirror_mode": {
    "name": "ipython",
    "version": 3
   },
   "file_extension": ".py",
   "mimetype": "text/x-python",
   "name": "python",
   "nbconvert_exporter": "python",
   "pygments_lexer": "ipython3",
   "version": "3.12.7"
  }
 },
 "nbformat": 4,
 "nbformat_minor": 5
}
